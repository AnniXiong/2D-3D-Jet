{
 "cells": [
  {
   "cell_type": "code",
   "execution_count": 1,
   "metadata": {
    "collapsed": false
   },
   "outputs": [
    {
     "data": {
      "application/javascript": [
       "\n",
       "require(['notebook'],\n",
       "  function() {\n",
       "    IPython.CodeCell.config_defaults.highlight_modes['magic_text/x-c++src'] = {'reg':[/^%%cpp/]};\n",
       "    console.log(\"JupyROOT - %%cpp magic configured\");\n",
       "  }\n",
       ");\n"
      ]
     },
     "metadata": {},
     "output_type": "display_data"
    },
    {
     "name": "stdout",
     "output_type": "stream",
     "text": [
      "Welcome to JupyROOT 6.09/03\n",
      "choose s to see jets from one event, choose m to see distribution of #jets\n",
      "from 15 different combinations of p and r\n",
      "(multiple pR:p = [-1,0,1],R = [0.01, 0.05, 0.1, 0.5, 1]\n",
      "single p_R pair or multiple p_R(s/m)?m\n",
      "multiple pr jets {0: [(254,), (50,), (94,), (98,), (506,), (42,), (18,), (7,), (93,), (124,), (123,), (43,), (118,), (54,), (17,), (27,), (57,), (44,), (53,), (47,), (60,), (251,), (505,), (25,), (59,), (117,), (19,), (41,), (97,), (49,), (253,), (45,)], 1: [(254,), (54,), (58,), (122,), (94,), (102,), (18,), (114,), (20,), (19,), (116,), (49,), (508,), (124,), (17,), (7,), (21,), (108,), (107,), (23,), (93,), (101,), (115,), (121,), (25,), (507,), (59,), (123,), (55,), (125,), (113,), (45,)], 2: [(126,), (94,), (58,), (54,), (86,), (44,), (121,), (114,), (57,), (93,), (17,), (18, 113), (108,), (246,), (85,), (19,), (43,), (23,), (125,), (24,), (55,), (245,), (41,), (59,), (25,), (107,), (61,), (7,), (45,)], 3: [(42, 126), (19, 124, 190), (122,), (18,), (58,), (16, 24), (54,), (41, 252), (93,), (25,), (23,), (90,), (56, 121), (15, 45), (43,), (189,), (57,), (89,), (53,), (17,), (59, 251), (123,), (55,)], 4: [(56, 254), (53, 110, 50, 16, 60, 22, 116), (37, 124, 59, 78), (123, 117, 115, 478), (109, 21, 49, 51, 55), (17, 77, 125), (23,), (9,), (105, 106), (477,), (15,), (253,), (237,)], 5: [(121,), (46,), (19,), (44,), (185,), (43,), (69,), (42,), (31,), (68,), (41,), (158,), (67,), (157,), (28,), (374,), (27,), (373,), (26,), (25,), (141,), (125,), (77,), (91,), (11,), (37,), (36,), (126,), (35,), (61,), (142,), (59,), (32,), (122,)], 6: [(20,), (110,), (19,), (45,), (477,), (44,), (43,), (16,), (94,), (123,), (124,), (93,), (55,), (53,), (15,), (116,), (25,), (109,), (115,), (50,), (478,), (113,), (230,), (229,), (237,), (253,), (254,), (117,), (8,), (125,), (23,), (60,), (49,), (59,)], 7: [(20,), (57,), (110,), (19,), (45,), (17,), (121,), (16,), (94,), (93,), (125,), (101,), (27,), (53,), (15,), (52,), (109,), (51,), (77,), (157,), (49,), (102,), (37,), (158,), (126,), (61,), (23,), (122,), (59,), (21,), (58,)], 8: [(121,), (45,), (7,), (57,), (43,), (90, 510), (20, 46), (124,), (54,), (27,), (89,), (24,), (59,), (25, 252, 509), (251,), (19, 507), (8,), (53, 508), (23,), (58,), (123,), (122,)], 9: [(35, 59), (41, 33, 50), (69,), (19, 123, 23, 124), (21, 60), (49, 253, 57, 42, 70), (18, 32), (31, 46, 254), (12,), (36,), (55, 125), (45, 56), (58,)], 10: [(19,), (105,), (61,), (117,), (77,), (121,), (51,), (157,), (53,), (21,), (15,), (122,), (16,), (41,), (24,), (92,), (23,), (91,), (42,), (93,), (37,), (59,), (57,), (106,), (17,), (27,), (118,), (62,), (54,), (94,), (158,)], 11: [(85,), (53,), (21,), (23,), (121,), (33,), (40,), (17,), (41,), (45,), (57,), (37,), (39,), (105,), (55,), (59,), (106,), (24,), (51,), (61,), (54,), (15,), (173,), (174,), (34,), (62,), (122,), (46,), (38,), (56,), (58,)], 12: [(41,), (27,), (59,), (121,), (217,), (109,), (49,), (7,), (52,), (45,), (125,), (50,), (51,), (23,), (107,), (19,), (21,), (42,), (253,), (115,), (116,), (117,), (17,), (61,), (218,), (18,), (122,), (110, 118), (46,), (254,)], 13: [(33,), (19, 49), (123, 253), (121,), (125,), (109,), (23,), (37,), (50,), (25,), (53,), (118,), (21,), (34,), (27, 57), (117,), (35,), (15, 59), (20,), (122,), (38, 73), (45, 74), (110,), (46, 124), (254,)], 14: [(57,), (21,), (17, 41), (117,), (51,), (19,), (7, 121), (509, 23, 125), (45, 510), (24, 52), (54,), (59, 123, 27, 245, 94, 124), (246, 18, 93, 118, 53, 42, 253)]}\n",
      "number of jets {(0, 1): 13, (-1, 0.01): 32, (-1, 1): 13, (0, 0.05): 34, (-1, 0.5): 23, (1, 0.01): 31, (-1, 0.05): 32, (1, 1): 13, (0, 0.01): 34, (0, 0.5): 22, (1, 0.5): 25, (1, 0.05): 31, (0, 0.1): 31, (1, 0.1): 30, (-1, 0.1): 29}\n"
     ]
    }
   ],
   "source": [
    "# this program is to plot the number of jets per event with the 15 different pairs of p and R\n",
    "# Anni Xiong\n",
    "#%matplotlib inline\n",
    "import MC_pregraph3D_ as mp3\n",
    "import MC_3d_saving_ as mcs\n",
    "import antikt as ak\n",
    "import matplotlib.pyplot as plt\n",
    "import itertools \n",
    "import numpy as np\n",
    "import random\n",
    "c = ['g', 'b', 'r', 'c','y','k']\n",
    "def pr_plotting(jetnumber,c):\n",
    "    plt.style.use('seaborn-poster')\n",
    "    fig = plt.figure()\n",
    "    plt.axis([-0.2, 1.2, -1.2, 1.2])\n",
    "    for k in jetnumber.keys():\n",
    "        #k[p, r]\n",
    "        x = k[1]\n",
    "        y = k[0]\n",
    "        number = jetnumber[k]\n",
    "        colors = random.choice(c)\n",
    "        plt.text(x, y, str(number) , color = colors  ,fontsize = '11')\n",
    "    plt.xlabel('R value')\n",
    "    plt.ylabel('p value')\n",
    "    plt.title('Number of jets, Min_energy:'+ str(mp3.MinEnergy))\n",
    "    plt.savefig('jet_number_distribution.png')\n",
    "    #plt.show()\n",
    "\n",
    "def plot_single_event(angular_v, jet,c):\n",
    "    fig,ax = plt.subplots(1,1)   \n",
    "    fig.set_size_inches(11,8.5) \n",
    "    for v in jet: \n",
    "        length = len(v)\n",
    "        area = []\n",
    "        eta = []\n",
    "        phi = []\n",
    "        colors = random.choice(c)\n",
    "        for i in v:\n",
    "            i = i,\n",
    "            area.append(angular_v[i][0])\n",
    "            eta.append(angular_v[i][1])\n",
    "            phi.append(angular_v[i][2])\n",
    "        a = [x * 1000 for x in area]    \n",
    "        plt.scatter(eta, phi,s = a,  color=colors, alpha=0.5)\n",
    "    ax.set_aspect('auto')\n",
    "    plt.xlabel('eta')\n",
    "    plt.ylabel('phi')\n",
    "    plt.title('Jet Distribution')\n",
    "    \n",
    "    #plt.show()\n",
    "    \n",
    "# the part respnsible for the interactive mode\n",
    "print('choose s to see jets from one event, choose m to see distribution of #jets')\n",
    "print('from 15 different combinations of p and r')\n",
    "print('(multiple pR:p = [-1,0,1],R = [0.01, 0.05, 0.1, 0.5, 1]')\n",
    "a1 = str(input('single p_R pair or multiple p_R(s/m)?'))\n",
    "\n",
    "if a1 == 'm':\n",
    "    multiplepr_jets = {}\n",
    "    jetnumber = {}\n",
    "    p = [-1,0,1]\n",
    "    R = [0.01, 0.05, 0.1, 0.5, 1]\n",
    "    pR_pair = list(itertools.product(p,R))                    \n",
    "    for i,pr in enumerate(pR_pair):\n",
    "        p = pr[0]\n",
    "        R = pr[1]\n",
    "        final3 = mcs.final3\n",
    "        t3 = mcs.t3\n",
    "        \n",
    "        jet = ak.main(p, R, final3, t3, mp3, mcs)   \n",
    "        multiplepr_jets[i] = jet\n",
    "        jetnumber[pr] = len(jet)\n",
    "    print('multiple pr jets', multiplepr_jets)\n",
    "    print('number of jets', jetnumber)\n",
    "    pr_plotting(jetnumber, c)\n",
    "elif a1 == 's':\n",
    "    a1R = float(input(\"input the R value here:\"))\n",
    "    a1p = float(input('input the p value here:'))\n",
    "    print('single pr jet')\n",
    "    final3 = mcs.final3\n",
    "    t3 = mcs.t3\n",
    "    jet = ak.main(a1R, a1p, final3, t3, mp3, mcs) \n",
    "    print(jet)\n",
    "    angular_v = ak.v_ang\n",
    "    #plot_single_event(angular_v, jet,c)\n",
    "\n",
    "\n"
   ]
  }
 ],
 "metadata": {
  "kernelspec": {
   "display_name": "Python 3",
   "language": "python",
   "name": "python3"
  },
  "language_info": {
   "codemirror_mode": {
    "name": "ipython",
    "version": 3
   },
   "file_extension": ".py",
   "mimetype": "text/x-python",
   "name": "python",
   "nbconvert_exporter": "python",
   "pygments_lexer": "ipython3",
   "version": "3.5.2"
  }
 },
 "nbformat": 4,
 "nbformat_minor": 1
}
