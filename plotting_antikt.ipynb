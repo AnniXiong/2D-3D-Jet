{
 "cells": [
  {
   "cell_type": "code",
   "execution_count": 1,
   "metadata": {
    "collapsed": false
   },
   "outputs": [
    {
     "data": {
      "application/javascript": [
       "\n",
       "require(['notebook'],\n",
       "  function() {\n",
       "    IPython.CodeCell.config_defaults.highlight_modes['magic_text/x-c++src'] = {'reg':[/^%%cpp/]};\n",
       "    console.log(\"JupyROOT - %%cpp magic configured\");\n",
       "  }\n",
       ");\n"
      ]
     },
     "metadata": {},
     "output_type": "display_data"
    },
    {
     "name": "stdout",
     "output_type": "stream",
     "text": [
      "Welcome to JupyROOT 6.09/03\n",
      "choose s to see jets from one event, choose m to see distribution of #jets\n",
      "from 15 different combinations of p and r\n",
      "(multiple pR:p = [-1,0,1],R = [0.01, 0.05, 0.1, 0.5, 1]\n",
      "single p_R pair or multiple p_R(s/m)?m\n",
      "multiple pr jets {0: [(94,), (254,), (90,), (110,), (242,), (494,), (86,), (490,), (38,), (52,), (17,), (56,), (19,), (23,), (24,), (493,), (55,), (57,), (53,), (93,), (37,), (186,), (43,), (237,), (41,), (123,), (124,), (243,), (7,), (51,), (185,), (238,), (489,), (91,), (125,), (253,), (119,), (245,), (85,), (89,), (117,), (241,), (109,)], 1: [(46,), (122, 241), (510,), (44,), (78,), (118,), (42,), (53,), (242,), (43,), (23,), (110,), (19,), (50,), (37,), (77,), (7,), (123,), (45,), (125,), (114,), (49,), (117,), (52,), (249,), (250,), (55,), (509,), (57,), (41,), (121,), (113,), (119,), (109,), (253,), (17,), (51,)], 2: [(126,), (94,), (118,), (78,), (502,), (34, 35), (33,), (110,), (122,), (45,), (77, 153), (501,), (39,), (36,), (154,), (40,), (25,), (20,), (53,), (15,), (43,), (125,), (24,), (123,), (44,), (117,), (121,), (57,), (93,), (152,), (151,), (23,), (249,), (59,), (56,), (109,), (55,)], 3: [(248, 254), (27, 18, 110), (46,), (124, 253), (50, 58), (57, 23, 182), (16,), (59, 106, 60, 85), (53, 15, 49), (92, 181), (105,), (41, 89, 125), (86,), (17,), (103,), (104,), (19, 247), (88,), (91,), (109,), (87,)], 4: [(174, 101, 51, 254), (222,), (46, 238), (47, 108, 246, 17, 41, 237, 39, 56, 21, 253), (52, 59, 102), (220, 45, 97, 121, 18, 55), (40,), (57, 98), (85, 173, 219), (125,), (117,), (7, 245), (49, 107), (61,), (221,)], 5: [(57,), (110,), (19,), (56,), (45,), (7,), (44,), (17,), (121,), (43,), (251,), (42,), (41,), (94,), (123,), (93,), (55,), (106,), (118,), (506,), (117,), (109,), (51,), (216,), (50,), (505,), (49,), (38,), (37,), (254,), (215,), (108,), (253,), (23,), (124,), (59,), (105,), (122,)], 6: [(20,), (57,), (125,), (19,), (56,), (45,), (17,), (121,), (107,), (16,), (254,), (106,), (105,), (94,), (104,), (93,), (118,), (117,), (218,), (15,), (436,), (109,), (435,), (50,), (103,), (49,), (38,), (48,), (37,), (253,), (222,), (221,), (61,), (112,), (122,), (59,), (21,), (111,), (47,)], 7: [(20,), (57,), (119,), (19,), (120,), (45,), (7,), (17,), (121,), (509,), (251,), (106,), (105,), (94,), (500,), (252,), (93,), (499,), (55,), (54,), (1021,), (53,), (118,), (246,), (51,), (50,), (114,), (113,), (38,), (37,), (1022,), (117,), (253,), (23,), (250,), (49,), (123,), (21,), (245,)], 8: [(15, 186), (20, 109, 117), (27,), (52, 24, 91), (37, 40), (39,), (110, 122), (190,), (253,), (51, 115), (123,), (121,), (252,), (93, 116, 185, 16, 254), (44, 118), (251,), (38,), (189,), (23,), (124,), (59,), (43, 17, 53)], 9: [(220, 15, 125), (215, 219, 45, 61), (216, 217), (16, 93), (85, 222), (49, 97), (29, 21, 94, 47, 115, 56, 86), (41, 50, 58, 218), (116, 126, 214, 8, 98), (221,), (51, 105), (19, 55), (213,)], 10: [(55,), (37,), (17,), (125,), (249,), (247,), (245,), (253,), (498,), (101,), (93,), (235,), (21,), (113,), (57,), (25,), (77,), (59,), (53,), (45,), (497,), (41,), (49,), (78,), (42,), (236,), (23,), (7,), (246,), (19,), (121,), (114,), (94,), (250,), (102,), (54,), (118,), (254,)], 11: [(109,), (251,), (157,), (119,), (120,), (253,), (123,), (221,), (55,), (57,), (21,), (19,), (49,), (35,), (107,), (77,), (41,), (23,), (124,), (108,), (243,), (58,), (509,), (15,), (36,), (56,), (50,), (244,), (51,), (16,), (158,), (37, 52), (252,), (42,), (122,), (22,), (222,), (510,)], 12: [(53,), (187,), (121,), (59,), (39,), (97,), (55,), (253,), (49,), (17,), (56,), (47,), (45,), (18,), (123,), (1019,), (15,), (50,), (43,), (125,), (33,), (51,), (34,), (44,), (98,), (57, 124), (81,), (54,), (52,), (41,), (188,), (122,), (1020,), (82,), (42,), (58,), (94,), (510,)], 13: [(91,), (39,), (89,), (443,), (444,), (92,), (59,), (101,), (107,), (23, 51), (58,), (56, 57), (106,), (17, 90), (55, 102), (40,), (49, 93), (189,), (42, 43), (109, 218), (38, 61, 217, 60, 37, 41), (222,), (190, 7, 105), (125, 126)], 14: [(51,), (27, 107), (97,), (21, 37), (17, 59), (117,), (61, 95), (118, 19, 93), (194,), (101, 122), (57, 38, 121, 94, 125, 45, 99), (193, 206, 20, 253), (98, 7, 205, 52, 108), (54,), (100, 254)]}\n",
      "number of jets {(0, 1): 13, (-1, 0.01): 43, (-1, 1): 15, (0, 0.05): 39, (-1, 0.5): 21, (1, 0.01): 38, (-1, 0.05): 37, (1, 1): 15, (0, 0.01): 38, (0, 0.5): 22, (1, 0.5): 24, (1, 0.05): 38, (0, 0.1): 39, (1, 0.1): 38, (-1, 0.1): 37}\n"
     ]
    }
   ],
   "source": [
    "# this program is to plot the number of jets per event with the 15 different pairs of p and R\n",
    "# Anni Xiong\n",
    "# %matplotlib inline\n",
    "import MC_pregraph3D_ as mp3\n",
    "import MC_3d_saving_ as mcs\n",
    "import antikt as ak\n",
    "import matplotlib.pyplot as plt\n",
    "import numpy as np\n",
    "import random\n",
    "import itertools \n",
    "\n",
    "c = ['g', 'b', 'r', 'c','y','k']\n",
    "def pr_plotting(jetnumber,c):\n",
    "    plt.style.use('seaborn-poster')\n",
    "    fig = plt.figure()\n",
    "    plt.axis([-0.2, 1.2, -1.2, 1.2])\n",
    "    for k in jetnumber.keys():\n",
    "        #k[p, r]\n",
    "        x = k[1]\n",
    "        y = k[0]\n",
    "        number = jetnumber[k]\n",
    "        colors = random.choice(c)\n",
    "        plt.text(x, y, str(number) , color = colors  ,fontsize = '11')\n",
    "    plt.xlabel('R value')\n",
    "    plt.ylabel('p value')\n",
    "    plt.title('Number of jets, Min_energy:'+ str(mcs.Minenergy))\n",
    "    plt.savefig('jet_number_distribution.png')\n",
    "    #plt.show()\n",
    "\n",
    "def plot_single_event(angular_v, jet,c):\n",
    "    fig,ax = plt.subplots(1,1)   \n",
    "    fig.set_size_inches(11,8.5) \n",
    "    for v in jet: \n",
    "        length = len(v)\n",
    "        area = []\n",
    "        eta = []\n",
    "        phi = []\n",
    "        colors = random.choice(c)\n",
    "        for i in v:\n",
    "            i = i,\n",
    "            area.append(angular_v[i][0])\n",
    "            eta.append(angular_v[i][1])\n",
    "            phi.append(angular_v[i][2])\n",
    "        a = [x * 1000 for x in area]    \n",
    "        plt.scatter(eta, phi,s = a,  color=colors, alpha=0.5)\n",
    "    ax.set_aspect('auto')\n",
    "    plt.xlabel('eta')\n",
    "    plt.ylabel('phi')\n",
    "    plt.title('Jet Distribution')\n",
    "    #plt.show()\n",
    "    \n",
    "# the part respnsible for the interactive mode\n",
    "print('choose s to see jets from one event, choose m to see distribution of #jets')\n",
    "print('from 15 different combinations of p and r')\n",
    "print('(multiple pR:p = [-1,0,1],R = [0.01, 0.05, 0.1, 0.5, 1]')\n",
    "a1 = str(input('single p_R pair or multiple p_R(s/m)?'))\n",
    "\n",
    "if a1 == 'm':\n",
    "    multiplepr_jets = {}\n",
    "    jetnumber = {}\n",
    "    p = [-1,0,1]\n",
    "    R = [0.01, 0.05, 0.1, 0.5, 1]\n",
    "    pR_pair = list(itertools.product(p,R))                    \n",
    "    for i,pr in enumerate(pR_pair):\n",
    "        p = pr[0]\n",
    "        R = pr[1]\n",
    "        final3 = mcs.final3\n",
    "        t3 = mcs.t3\n",
    "        \n",
    "        jet = ak.main(p, R, final3, t3, mp3, mcs)   \n",
    "        multiplepr_jets[i] = jet\n",
    "        jetnumber[pr] = len(jet)\n",
    "    print('multiple pr jets', multiplepr_jets)\n",
    "    print('number of jets', jetnumber)\n",
    "    pr_plotting(jetnumber, c)\n",
    "elif a1 == 's':\n",
    "    a1R = float(input(\"input the R value here:\"))\n",
    "    a1p = float(input('input the p value here:'))\n",
    "    print('single pr jet')\n",
    "    final3 = mcs.final3\n",
    "    t3 = mcs.t3\n",
    "    jet = ak.main(a1R, a1p, final3, t3, mp3, mcs) \n",
    "    print(jet)\n",
    "    angular_v = ak.v_ang\n",
    "    #plot_single_event(angular_v, jet,c)\n"
   ]
  },
  {
   "cell_type": "code",
   "execution_count": null,
   "metadata": {
    "collapsed": true
   },
   "outputs": [],
   "source": []
  }
 ],
 "metadata": {
  "kernelspec": {
   "display_name": "Python 3",
   "language": "python",
   "name": "python3"
  },
  "language_info": {
   "codemirror_mode": {
    "name": "ipython",
    "version": 3
   },
   "file_extension": ".py",
   "mimetype": "text/x-python",
   "name": "python",
   "nbconvert_exporter": "python",
   "pygments_lexer": "ipython3",
   "version": "3.5.2"
  }
 },
 "nbformat": 4,
 "nbformat_minor": 1
}
