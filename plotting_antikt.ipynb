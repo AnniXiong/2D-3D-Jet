{
 "cells": [
  {
   "cell_type": "code",
   "execution_count": 1,
   "metadata": {
    "collapsed": false
   },
   "outputs": [
    {
     "name": "stdout",
     "output_type": "stream",
     "text": [
      "index   energy       theta            phi              px                 py                pz       \n",
      "----- --------- ---------------- ------------- ------------------ ------------------ ----------------\n",
      "   11 0.0445816   0.385320022564  1.9731898791   -0.0065621072688    0.0154178514619  0.0413127608232\n",
      "   12 0.0686365 -0.0382899596424 2.16523491187     0.106847848342  -0.00409320037212 0.00999849907183\n",
      "   13 0.0948539    0.39113554349 1.45927639548   0.00402442460805     0.035937318092  0.0876902232413\n",
      "   15 0.0443405   0.209933249809 4.19968851847   -0.0045326808586  -0.00805223761735  0.0433670438568\n",
      "   16 0.0737103  -0.577968417679 3.40234498977    0.0227047859381   -0.0148096206211  0.0710144130371\n",
      "   17 0.0336318   0.432386218434 1.27906828167   0.00405325736205    0.0134975543568  0.0305365803147\n",
      "   18 0.0869627  -0.459212208876 2.74994547282   -0.0467224987572    0.0231027796709  0.0920687704396\n",
      "   19 0.0824976   0.264071744822 3.12398865864   -0.0215296369404  0.000379046776421  0.0796378460162\n",
      "   20 0.0729311 -0.0322280895499 2.42403942865    0.0170352479743 -0.000549203653801  0.0757257506313\n",
      "   21 0.0623004   0.212476199447 5.76116990331    0.0113882108309  -0.00655096616575  0.0608993956852\n",
      "   45 0.0285775  0.0357483779934 4.20824394857 -0.000493388314994 -0.000894310573057  0.0285592808975\n",
      "   46 0.0784691  -0.187685699616  1.9295201558     0.112236606605   -0.0213160887576  0.0734838411399\n",
      "   59  0.039399   0.183613482104 1.74189094405  -0.00122479158569   0.00708857448641  0.0387367231221\n",
      "   60 0.0741129   0.526709386981 1.37067526287    0.0292267200519    0.0169954904599   0.068598263562\n",
      "   61 0.0319568   0.230352417899 5.48686756604    0.0051026902106  -0.00521536347833  0.0311127076509\n",
      "   62 0.0830382   0.216532149923 5.43412111621    -0.231554688197   -0.0509376240651    0.16725790051\n",
      "    0       1.0              0.0           0.0                0.0  1.21430643318e-17              1.0\n"
     ]
    },
    {
     "data": {
      "application/javascript": [
       "\n",
       "require(['notebook'],\n",
       "  function() {\n",
       "    IPython.CodeCell.config_defaults.highlight_modes['magic_text/x-c++src'] = {'reg':[/^%%cpp/]};\n",
       "    console.log(\"JupyROOT - %%cpp magic configured\");\n",
       "  }\n",
       ");\n"
      ]
     },
     "metadata": {},
     "output_type": "display_data"
    },
    {
     "name": "stdout",
     "output_type": "stream",
     "text": [
      "Welcome to JupyROOT 6.09/03\n",
      "choose s to see jets from one event, choose m to see distribution of #jets\n",
      "from 15 different combinations of p and r\n",
      "(multiple pR:p = [-1,0,1],R = [0.01, 0.05, 0.1, 0.5, 1]\n",
      "single p_R pair or multiple p_R(s/m)?s\n",
      "input the R value here:0.001\n",
      "input the p value here:-1\n",
      "single pr jet\n",
      "index   energy        theta            phi              px                 py                pz      \n",
      "----- --------- ----------------- ------------- ------------------ ------------------ ---------------\n",
      "    7 0.0446297 0.000511558968028 3.83221252238 -1.75991045322e-05 -1.45435259981e-05 0.0446297262252\n",
      "    8  0.085311    0.333211535047 1.54720808174    0.0032686106291   0.00113132220977 0.0852655284963\n",
      "   11 0.0569199    0.576430052284   2.735448967   -0.0284995992616     0.012256368542 0.0477224415956\n",
      "   19 0.0450384    0.160227739837 5.80839819066   0.00639077197943  -0.00328487569253 0.0444615277332\n",
      "   21  0.064428   0.0137951282337 1.96087078538  -0.00033795902217  0.000822000810426 0.0644218531038\n",
      "   22 0.0724579     1.31806280744 5.45021660992   -0.0123739574979   -0.0479135880646 0.0783027715046\n",
      "   25 0.0519152    0.521655443399 5.11540727936     0.010146197547   -0.0237974999254 0.0450102468387\n",
      "   26 0.0669072     1.27175955193 2.80848572902   -0.0276223003854    -0.089600998061 0.0434358286676\n",
      "   27 0.0619764     0.30981056264 1.77612640107  -0.00385255793356    0.0184983291508 0.0590257647045\n",
      "   29 0.0755189    0.179861296729 2.31858202009  -0.00918689424543   0.00990533912844 0.0743006232971\n",
      "   41 0.0403737   0.0342347792781 5.96374587777   0.00131200504235 -0.000433968482025 0.0403500169954\n",
      "   42 0.0705402   -0.742544558278 5.40312291674   -0.0429500101668    0.0394180783136 0.0628512520679\n",
      "   57 0.0384294    0.078255054579 2.27104383204  -0.00193594242506   0.00229727762393 0.0383117528056\n",
      "   58 0.0744725    -1.41432223066 6.10743353766   -0.0086638882599    0.0549168424225 0.0596374881616\n",
      "   61 0.0391688    0.223844097034 2.45413327843  -0.00671977164154   0.00551742834786 0.0381916127943\n",
      "  125 0.0434641   0.0236314481705 3.41707329843 -0.000988298691433 -0.000279360013039 0.0434519223972\n",
      "  126 0.0684489    0.166928671043 2.13528230019     0.122031193437    0.0205618472151  0.130629642612\n",
      "    0       1.0               0.0           0.0                0.0                0.0             1.0\n",
      "\n"
     ]
    },
    {
     "name": "stderr",
     "output_type": "stream",
     "text": [
      "/Library/Frameworks/Python.framework/Versions/3.5/lib/python3.5/site-packages/matplotlib/collections.py:806: RuntimeWarning: invalid value encountered in sqrt\n",
      "  scale = np.sqrt(self._sizes) * dpi / 72.0 * self._factor\n"
     ]
    },
    {
     "data": {
      "image/png": "[encoded data removed]",
      "text/plain": [
       "<matplotlib.figure.Figure at 0x105a8ae48>"
      ]
     },
     "metadata": {},
     "output_type": "display_data"
    }
   ],
   "source": [
    "# this program is to plot the number of jets per event with the 15 different pairs of p and R\n",
    "# Anni Xiong\n",
    "%matplotlib inline\n",
    "import MC_pregraph3D_ as mp3\n",
    "import MC_3d_saving_ as mcs\n",
    "import antikt as ak\n",
    "import matplotlib.pyplot as plt\n",
    "import itertools \n",
    "import numpy as np\n",
    "import random\n",
    "c = ['g', 'b', 'r', 'c','y','k']\n",
    "def pr_plotting(jetnumber,c):\n",
    "    plt.style.use('seaborn-poster')\n",
    "    fig = plt.figure()\n",
    "    plt.axis([-0.2, 1.2, -1.2, 1.2])\n",
    "    for k in jetnumber.keys():\n",
    "        #k[p, r]\n",
    "        x = k[1]\n",
    "        y = k[0]\n",
    "        number = jetnumber[k]\n",
    "        colors = random.choice(c)\n",
    "        plt.text(x, y, str(number) , color = colors  ,fontsize = '10')\n",
    "    plt.xlabel('R value')\n",
    "    plt.ylabel('p value')\n",
    "    plt.title('Number of jets, Min_energy:'+ str(mp3.MinEnergy))\n",
    "    plt.show()\n",
    "\n",
    "def plot_single_event(angular_v, jet,c):\n",
    "    fig,ax = plt.subplots(1,1)   \n",
    "    fig.set_size_inches(11,8.5) \n",
    "    for v in jet: \n",
    "        length = len(v)\n",
    "        area = []\n",
    "        eta = []\n",
    "        phi = []\n",
    "        colors = random.choice(c)\n",
    "        for i in v:\n",
    "            i = i,\n",
    "            area.append(angular_v[i][0])\n",
    "            eta.append(angular_v[i][1])\n",
    "            phi.append(angular_v[i][2])\n",
    "        a = [x * 1000 for x in area]    \n",
    "        plt.scatter(eta, phi,s = a,  color=colors, alpha=0.5)\n",
    "    ax.set_aspect('auto')\n",
    "    plt.xlabel('eta')\n",
    "    plt.ylabel('phi')\n",
    "    plt.title('Jet Distribution')\n",
    "    plt.show()\n",
    "    \n",
    "# the part respnsible for the interactive mode\n",
    "print('choose s to see jets from one event, choose m to see distribution of #jets')\n",
    "print('from 15 different combinations of p and r')\n",
    "print('(multiple pR:p = [-1,0,1],R = [0.01, 0.05, 0.1, 0.5, 1]')\n",
    "a1 = str(input('single p_R pair or multiple p_R(s/m)?'))\n",
    "\n",
    "if a1 == 'm':\n",
    "    multiplepr_jets = {}\n",
    "    jetnumber = {}\n",
    "    p = [-1,0,1]\n",
    "    R = [0.01, 0.05, 0.1, 0.5, 1]\n",
    "    pR_pair = list(itertools.product(p,R))                    \n",
    "    for i,pr in enumerate(pR_pair):\n",
    "        p = pr[0]\n",
    "        R = pr[1]\n",
    "        final3 = mcs.final3\n",
    "        t3 = mcs.t3\n",
    "        \n",
    "        jet = ak.main(p, R, final3, t3, mp3, mcs)   \n",
    "        multiplepr_jets[i] = jet\n",
    "        jetnumber[pr] = len(jet)\n",
    "    print('multiple pr jets', multiplepr_jets)\n",
    "    print('number of jets', jetnumber)\n",
    "    pr_plotting(jetnumber, c)\n",
    "elif a1 == 's':\n",
    "    a1R = float(input(\"input the R value here:\"))\n",
    "    a1p = float(input('input the p value here:'))\n",
    "    print('single pr jet')\n",
    "    final3 = mcs.final3\n",
    "    t3 = mcs.t3\n",
    "    jet = ak.main(a1R, a1p, final3, t3, mp3, mcs) \n",
    "    angular_v = ak.v_ang\n",
    "    plot_single_event(angular_v, jet,c)\n",
    "\n",
    "\n"
   ]
  },
  {
   "cell_type": "code",
   "execution_count": null,
   "metadata": {
    "collapsed": true
   },
   "outputs": [],
   "source": []
  }
 ],
 "metadata": {
  "kernelspec": {
   "display_name": "Python 3",
   "language": "python",
   "name": "python3"
  },
  "language_info": {
   "codemirror_mode": {
    "name": "ipython",
    "version": 3
   },
   "file_extension": ".py",
   "mimetype": "text/x-python",
   "name": "python",
   "nbconvert_exporter": "python",
   "pygments_lexer": "ipython3",
   "version": "3.5.2"
  }
 },
 "nbformat": 4,
 "nbformat_minor": 1
}
