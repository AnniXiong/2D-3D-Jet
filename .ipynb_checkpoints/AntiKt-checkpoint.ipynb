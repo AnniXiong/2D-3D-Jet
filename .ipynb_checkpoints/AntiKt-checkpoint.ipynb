{
 "cells": [
  {
   "cell_type": "markdown",
   "metadata": {},
   "source": [
    "# The anti Kt jet clusttering algorithm"
   ]
  },
  {
   "cell_type": "markdown",
   "metadata": {},
   "source": [
    "The equations used"
   ]
  },
  {
   "cell_type": "markdown",
   "metadata": {},
   "source": [
    "\\begin{align}\n",
    "d_{ij} & = \\min(k_{ti}^{2p},k_{tj}^{2p})\\frac{\\Delta_{ij}^2}{R^2}\\\\\n",
    "d_{iB} & = K_{ti}^{2p}\\\\\n",
    "\\Delta_{ti}^{2p} & = (y_i-y_j)^2+(\\phi_i-\\phi_j)^2\n",
    "\\end{align}"
   ]
  },
  {
   "cell_type": "code",
   "execution_count": 1,
   "metadata": {
    "collapsed": false
   },
   "outputs": [
    {
     "data": {
      "application/javascript": [
       "\n",
       "require(['notebook'],\n",
       "  function() {\n",
       "    IPython.CodeCell.config_defaults.highlight_modes['magic_text/x-c++src'] = {'reg':[/^%%cpp/]};\n",
       "    console.log(\"JupyROOT - %%cpp magic configured\");\n",
       "  }\n",
       ");\n"
      ]
     },
     "metadata": {},
     "output_type": "display_data"
    },
    {
     "name": "stdout",
     "output_type": "stream",
     "text": [
      "Welcome to JupyROOT 6.09/03\n",
      "v {(53,): <ROOT.TLorentzVector object (\"TLorentzVector\") at 0x11ff28050>, (27,): <ROOT.TLorentzVector object (\"TLorentzVector\") at 0x122d65dc0>, (54,): <ROOT.TLorentzVector object (\"TLorentzVector\") at 0x122c1cd20>, (28,): <ROOT.TLorentzVector object (\"TLorentzVector\") at 0x122d691a0>, (23,): <ROOT.TLorentzVector object (\"TLorentzVector\") at 0x122d6b7e0>, (29,): <ROOT.TLorentzVector object (\"TLorentzVector\") at 0x122c1e7d0>, (126,): <ROOT.TLorentzVector object (\"TLorentzVector\") at 0x122c377f0>, (9,): <ROOT.TLorentzVector object (\"TLorentzVector\") at 0x122d78ce0>, (10,): <ROOT.TLorentzVector object (\"TLorentzVector\") at 0x122d78db0>, (17,): <ROOT.TLorentzVector object (\"TLorentzVector\") at 0x122d6b6f0>, (7,): <ROOT.TLorentzVector object (\"TLorentzVector\") at 0x122d6ada0>, (18,): <ROOT.TLorentzVector object (\"TLorentzVector\") at 0x122d6a9b0>, (24,): <ROOT.TLorentzVector object (\"TLorentzVector\") at 0x122d697d0>, (125,): <ROOT.TLorentzVector object (\"TLorentzVector\") at 0x122c37f80>, (61,): <ROOT.TLorentzVector object (\"TLorentzVector\") at 0x1035a9740>, (25,): <ROOT.TLorentzVector object (\"TLorentzVector\") at 0x122d69cb0>}\n",
      "pr -1 1\n",
      "v after {(53,): <ROOT.TLorentzVector object (\"TLorentzVector\") at 0x11ff28050>, (27,): <ROOT.TLorentzVector object (\"TLorentzVector\") at 0x122d65dc0>, (54,): <ROOT.TLorentzVector object (\"TLorentzVector\") at 0x122c1cd20>, (28,): <ROOT.TLorentzVector object (\"TLorentzVector\") at 0x122d691a0>, (23,): <ROOT.TLorentzVector object (\"TLorentzVector\") at 0x122d6b7e0>, (29,): <ROOT.TLorentzVector object (\"TLorentzVector\") at 0x122c1e7d0>, (126,): <ROOT.TLorentzVector object (\"TLorentzVector\") at 0x122c377f0>, (9,): <ROOT.TLorentzVector object (\"TLorentzVector\") at 0x122d78ce0>, (10,): <ROOT.TLorentzVector object (\"TLorentzVector\") at 0x122d78db0>, (17,): <ROOT.TLorentzVector object (\"TLorentzVector\") at 0x122d6b6f0>, (7,): <ROOT.TLorentzVector object (\"TLorentzVector\") at 0x122d6ada0>, (18,): <ROOT.TLorentzVector object (\"TLorentzVector\") at 0x122d6a9b0>, (24,): <ROOT.TLorentzVector object (\"TLorentzVector\") at 0x122d697d0>, (125,): <ROOT.TLorentzVector object (\"TLorentzVector\") at 0x122c37f80>, (61,): <ROOT.TLorentzVector object (\"TLorentzVector\") at 0x1035a9740>, (25,): <ROOT.TLorentzVector object (\"TLorentzVector\") at 0x122d69cb0>}\n",
      "final3 after [(7,), (9,), (10,), (17,), (18,), (23,), (24,), (25,), (27,), (28,), (29,), (53,), (54,), (61,), (125,), (126,)]\n",
      "jets [(28, 10, 24), (27, 126), (54, 18, 53), (9, 17), (29,), (7,), (125,), (23, 25, 61)]\n"
     ]
    },
    {
     "data": {
      "text/plain": [
       "[(28, 10, 24),\n",
       " (27, 126),\n",
       " (54, 18, 53),\n",
       " (9, 17),\n",
       " (29,),\n",
       " (7,),\n",
       " (125,),\n",
       " (23, 25, 61)]"
      ]
     },
     "execution_count": 1,
     "metadata": {},
     "output_type": "execute_result"
    }
   ],
   "source": [
    "# This program is to run the anti Kt algorithum, the goal is to get a list of jets\n",
    "# the beam direction is in Z\n",
    "# Anni Xiong\n",
    "import MC_pregraph3D_ as mp3\n",
    "import MC_saving_ as mcs\n",
    "import numpy as np\n",
    "from ROOT import TLorentzVector\n",
    "import itertools \n",
    "import importlib as imp # import the little monster\n",
    "\n",
    "final3 = mcs.final3\n",
    "t3 = mcs.t3\n",
    "v = {}\n",
    "def main(p, R, final3, t3, v):\n",
    "    \n",
    "    #v = {} # the momentum four vectors, things are not in order here\n",
    "    global pt\n",
    "    pt = {} # transverse momentum\n",
    "    \n",
    "    packing(final3,t3,v, pt)\n",
    "    print('v', v)\n",
    "    jets = []\n",
    "    temp_entity = final3.copy()       # here making a copy so that \n",
    "    temp_v = v.copy()               # final3, v and pt are not\n",
    "    temp_pt = pt.copy()             # modified along the way\n",
    "    dij = {} # These two will be constantly updated,\n",
    "    dib = {} # as entities are being merged to a jet\n",
    "    print('pr', p, R)\n",
    "    # calculate the diB's for the initial pool\n",
    "    di_B(temp_entity,p,pt,dib)\n",
    "    # calculate the ds for initial pool\n",
    "    d_calculation(dij, temp_entity, dib, temp_v,R)\n",
    "    \n",
    "    while 1:\n",
    "        if not temp_entity:\n",
    "            break\n",
    "        #print('temp_v before decision', temp_v)\n",
    "        # pick the smallest value among dij pool and dib pool and return the key\n",
    "        decision = deci(dib, dij)\n",
    "        i = decision[1]\n",
    "        #print('---decision---', decision)\n",
    "        if decision[0]== 1:\n",
    "            merging(i, temp_v, temp_entity, temp_pt,dib,p)\n",
    "            dij = {}\n",
    "            d_calculation(dij, temp_entity , dib, temp_v,R)\n",
    "        elif decision[0] == 0:\n",
    "            handle_jet(i, temp_v, temp_entity, temp_pt,dib, jets,dij)\n",
    "        #print('d-calculation on each end of a run',dij)\n",
    "        #print('dib on each end of a run',dib)\n",
    "    print('v after',v)\n",
    "    print('final3 after',final3)\n",
    "    print('jets',jets)\n",
    "    return jets\n",
    "\n",
    "'''packing initial data to TLorentz vectors'''\n",
    "def packing (final3, t3, v, pt):\n",
    "    for i,k in enumerate(final3):\n",
    "        v[k] = TLorentzVector()\n",
    "        v[k].SetPxPyPzE(t3[i]['px'],t3[i]['py'],t3[i]['pz'],t3[i]['energy'])\n",
    "        pt[k] = v[k].Perp()\n",
    "        #eta[k] = v[k].Eta()\n",
    "        #angular version of the four vectors \n",
    "        #v_ang[k].SetPtEtaPhiM(pt[k],eta[k],t3[i]['phi'],0.1)\n",
    "    \n",
    "\"\"\" calculate a dictionary containing the kt^2p for each final state particle \"\"\"\n",
    "# dib = {final state particles:  Kti^2p}\n",
    "def di_B (temp_entity,p,pt,dib):\n",
    "        for i in temp_entity:\n",
    "            kti2p = (pt[i])**(2*p)\n",
    "            dib[i] = kti2p\n",
    "\n",
    "\"\"\" calculate the dij for every possible pair of final state particles \"\"\"\n",
    "def d_calculation(dij ,temp_entity, dib, temp_v,R):\n",
    "    pair_list = list(itertools.combinations(temp_entity,2))\n",
    "    for p in pair_list:\n",
    "        p1 = p[0] \n",
    "        p2 = p[1]\n",
    "        kti2p_pair = [dib[p1],dib[p2]]\n",
    "        m = min(kti2p_pair)\n",
    "        Delta_r = temp_v[p1].DeltaR(temp_v[p2])\n",
    "        d = m*((Delta_r)**2)/(R**2)\n",
    "        # p has to be seperated with two parts here\n",
    "        dij[p] = d\n",
    "    \n",
    "\"\"\" if dec = 1, combine the pair; if dec = 0, call it a jet\"\"\"\n",
    "def deci(dib, dij):\n",
    "    # the first element indicates the location, the second element indicates the index\n",
    "    dec = []\n",
    "    pool = list(dib.values()) + list(dij.values())\n",
    "    smallestd = min (pool)\n",
    "    # the smallest value append to the dec as well?\n",
    "    if smallestd in list(dij.values()):\n",
    "        dec.append(1)\n",
    "        #to reverse the position of keys and values\n",
    "        revD = {v:k for k,v in dij.items()}\n",
    "        # to get the key\n",
    "        dec.append(revD[smallestd])\n",
    "    elif smallestd in list(dib.values()):\n",
    "        dec.append(0) \n",
    "        revdB = {v:k for k,v in dib.items()}\n",
    "        dec.append(revdB[smallestd])\n",
    "    return dec\n",
    "\n",
    "''' update information about lorentz vectors, entities and pt's and dib's  '''\n",
    "def merging(i, temp_v, temp_entity, temp_pt, dib, p):  \n",
    "        index1 = i[0] # these are the\n",
    "        index2 = i[1] # two indices to merge\n",
    "        # calculate the new four vector\n",
    "        v_new = temp_v[index1] + temp_v[index2]\n",
    "        #merge the two indices, two are both tuples\n",
    "        new_index = index1 + index2\n",
    "        # append to the temp_v\n",
    "        temp_v[new_index] = v_new\n",
    "        temp_pt[new_index] = v_new.Perp()\n",
    "        temp_entity.append(new_index)\n",
    "        dib[new_index] = (temp_pt[new_index])**(2*p)\n",
    "        # delete the original two entities\n",
    "        for k in i:   \n",
    "            del temp_v[k]\n",
    "            temp_entity.remove(k)\n",
    "            del temp_pt[k]\n",
    "            del dib[k]\n",
    "\n",
    "'''Update all variables if it's a jet'''        \n",
    "def handle_jet(i, temp_v, temp_entity, temp_pt,dib, jets,dij): \n",
    "        jets.append(i)\n",
    "        del temp_v[i]\n",
    "        temp_entity.remove(i)\n",
    "        del temp_pt[i]\n",
    "        del dib[i]\n",
    "        for k in list(dij.keys()):\n",
    "            for kk in k:\n",
    "                if kk == i:\n",
    "                    del dij[k]\n",
    "\n",
    "'''# the part respnsible for the interactive mode\n",
    "a1 = str(input(\"single p_R pair or multiple p_R(s/m)?(multiple pr:p = [-1,0,1],R = [0.01, 0.05, 0.1, 0.5, 1]:\"))\n",
    "if a1 == 'm':\n",
    "    multiplepr_jets = {}\n",
    "    jetnumber = {}\n",
    "    p = [-1,0,1]\n",
    "    R = [0.01, 0.05, 0.1, 0.5, 1]\n",
    "    pR_pair = list(itertools.product(p,R))                    \n",
    "    for i,pr in enumerate(pR_pair):\n",
    "        p = pr[0]\n",
    "        R = pr[1]\n",
    "        imp.reload(mp3)\n",
    "        imp.reload(mcs)\n",
    "        final3 = mcs.final3\n",
    "        t3 = mcs.t3\n",
    "        #print(final3)\n",
    "        jet = main(p, R, final3, t3)   \n",
    "        multiple_jets[i] = jet\n",
    "        jetnumber[pr] = len(jet)\n",
    "    print('multiple pr jets', multiplepr_jets)\n",
    "    print('number of jets', jetnumber)\n",
    "elif a1 == 's':\n",
    "    a1R = float(input(\"input the R value here:\"))\n",
    "    a1p = float(input('input the p value here:'))\n",
    "    jet = main(a1R, a1p, final3, t3) \n",
    "    print('single pr jet',jet)'''\n",
    "\n",
    "main(-1, 1, final3, t3,v)\n"
   ]
  },
  {
   "cell_type": "code",
   "execution_count": 2,
   "metadata": {
    "collapsed": false
   },
   "outputs": [
    {
     "name": "stdout",
     "output_type": "stream",
     "text": [
      "{(53,): <ROOT.TLorentzVector object (\"TLorentzVector\") at 0x11ff28050>, (27,): <ROOT.TLorentzVector object (\"TLorentzVector\") at 0x122d65dc0>, (54,): <ROOT.TLorentzVector object (\"TLorentzVector\") at 0x122c1cd20>, (28,): <ROOT.TLorentzVector object (\"TLorentzVector\") at 0x122d691a0>, (23,): <ROOT.TLorentzVector object (\"TLorentzVector\") at 0x122d6b7e0>, (29,): <ROOT.TLorentzVector object (\"TLorentzVector\") at 0x122c1e7d0>, (126,): <ROOT.TLorentzVector object (\"TLorentzVector\") at 0x122c377f0>, (9,): <ROOT.TLorentzVector object (\"TLorentzVector\") at 0x122d78ce0>, (10,): <ROOT.TLorentzVector object (\"TLorentzVector\") at 0x122d78db0>, (17,): <ROOT.TLorentzVector object (\"TLorentzVector\") at 0x122d6b6f0>, (7,): <ROOT.TLorentzVector object (\"TLorentzVector\") at 0x122d6ada0>, (18,): <ROOT.TLorentzVector object (\"TLorentzVector\") at 0x122d6a9b0>, (24,): <ROOT.TLorentzVector object (\"TLorentzVector\") at 0x122d697d0>, (125,): <ROOT.TLorentzVector object (\"TLorentzVector\") at 0x122c37f80>, (61,): <ROOT.TLorentzVector object (\"TLorentzVector\") at 0x1035a9740>, (25,): <ROOT.TLorentzVector object (\"TLorentzVector\") at 0x122d69cb0>}\n"
     ]
    }
   ],
   "source": [
    "print(v)"
   ]
  },
  {
   "cell_type": "code",
   "execution_count": 3,
   "metadata": {
    "collapsed": false
   },
   "outputs": [
    {
     "name": "stdout",
     "output_type": "stream",
     "text": [
      "{(53,): 0.01661345402382651, (27,): 0.03260359382692137, (54,): 0.05964402993148444, (28,): 0.10765282691682447, (23,): 0.0018484682011792042, (29,): 0.03241907251010159, (126,): 0.15076592221015045, (9,): 0.024360101689396226, (10,): 0.11463766508071285, (17,): 0.04354339541214519, (7,): 0.012889423699903431, (18,): 0.039767888623620976, (24,): 0.08831569959939696, (125,): 0.0068327215476026186, (61,): 0.0019114713437620207, (25,): 0.00206739467411366}\n"
     ]
    }
   ],
   "source": [
    "print(pt)"
   ]
  },
  {
   "cell_type": "code",
   "execution_count": null,
   "metadata": {
    "collapsed": true
   },
   "outputs": [],
   "source": []
  }
 ],
 "metadata": {
  "kernelspec": {
   "display_name": "Python 3",
   "language": "python",
   "name": "python3"
  },
  "language_info": {
   "codemirror_mode": {
    "name": "ipython",
    "version": 3
   },
   "file_extension": ".py",
   "mimetype": "text/x-python",
   "name": "python",
   "nbconvert_exporter": "python",
   "pygments_lexer": "ipython3",
   "version": "3.5.2"
  }
 },
 "nbformat": 4,
 "nbformat_minor": 1
}
