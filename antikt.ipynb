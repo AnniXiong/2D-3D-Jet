{
 "cells": [
  {
   "cell_type": "markdown",
   "metadata": {},
   "source": [
    "# The anti Kt jet clusttering algorithm"
   ]
  },
  {
   "cell_type": "markdown",
   "metadata": {},
   "source": [
    "\\begin{align}\n",
    "d_{ij} & = \\min(k_{ti}^{2p},k_{tj}^{2p})\\frac{\\Delta_{ij}^2}{R^2}\\\\\n",
    "d_{iB} & = K_{ti}^{2p}\\\\\n",
    "\\Delta_{ti}^{2} & = (y_i-y_j)^2+(\\phi_i-\\phi_j)^2\n",
    "\\end{align}"
   ]
  },
  {
   "cell_type": "code",
   "execution_count": 1,
   "metadata": {
    "collapsed": false
   },
   "outputs": [
    {
     "data": {
      "application/javascript": [
       "\n",
       "require(['notebook'],\n",
       "  function() {\n",
       "    IPython.CodeCell.config_defaults.highlight_modes['magic_text/x-c++src'] = {'reg':[/^%%cpp/]};\n",
       "    console.log(\"JupyROOT - %%cpp magic configured\");\n",
       "  }\n",
       ");\n"
      ]
     },
     "metadata": {},
     "output_type": "display_data"
    },
    {
     "name": "stdout",
     "output_type": "stream",
     "text": [
      "Welcome to JupyROOT 6.09/03\n"
     ]
    }
   ],
   "source": [
    "# This program is to run the anti Kt algorithum, the goal is to get a list of jets\n",
    "# the beam direction is in Z\n",
    "# Anni Xiong\n",
    "import MC_pregraph3D_ as mp3\n",
    "import MC_3d_saving_ as mcs\n",
    "import numpy as np\n",
    "from ROOT import TLorentzVector\n",
    "import itertools \n",
    "import importlib as imp # import the little monster\n",
    "\n",
    "v = {}\n",
    "v_ang = {}\n",
    "pt = {}\n",
    "def main(p, R, final3, t3, mp3, mcs):\n",
    "    \n",
    "    global v\n",
    "    global v_ang\n",
    "    global pt\n",
    "    pt = {}\n",
    "    packing(final3,t3,v, pt,v_ang)\n",
    "    \n",
    "    jets = []\n",
    "    temp_entity = final3.copy()     #  making a copy so that \n",
    "    temp_v = v.copy()               # final3, v and pt are not\n",
    "    temp_pt = pt.copy()             # modified along the way\n",
    "    dij = {}                        # These two will be constantly updated,\n",
    "    dib = {}                        # as entities are being merged to a jet\n",
    "    \n",
    "    di_B(temp_entity,p,pt,dib)      # calculate the diB's for the initial pool\n",
    "    d_calculation(dij, temp_entity, dib, temp_v,R)  # calculate the ds for initial pool\n",
    "    \n",
    "    while 1:\n",
    "        if not temp_entity:\n",
    "            break\n",
    "        decision = deci(dib, dij)\n",
    "        i = decision[1]\n",
    "        if decision[0]== 1:\n",
    "            merging(i, temp_v, temp_entity, temp_pt,dib,p)\n",
    "            dij = {}\n",
    "            d_calculation(dij, temp_entity , dib, temp_v,R)\n",
    "        elif decision[0] == 0:\n",
    "            handle_jet(i, temp_v, temp_entity, temp_pt,dib, jets,dij)\n",
    "        #print('d-calculation on each end of a run',dij)\n",
    "        #print('dib on each end of a run',dib)\n",
    "    imp.reload(mp3)\n",
    "    imp.reload(mcs)\n",
    "    #print('final state particle indices', final3)\n",
    "    #print('jets',jets,'pr',p,R)\n",
    "    return jets\n",
    "\n",
    "'''packing initial data to TLorentz vectors'''\n",
    "def packing (final3, t3, v, pt, v_ang):\n",
    "    for i,k in enumerate(final3):\n",
    "        v[k] = TLorentzVector()\n",
    "        v[k].SetPxPyPzE(t3[i]['px'],t3[i]['py'],t3[i]['pz'],t3[i]['energy'])\n",
    "        pt[k] = v[k].Perp()\n",
    "        eta = v[k].Eta()\n",
    "        v_ang[k] = TLorentzVector()\n",
    "        v_ang[k].SetPtEtaPhiM(pt[k],eta,t3[i]['phi'],0.1)\n",
    "        \n",
    "\"\"\" calculate a dictionary containing the kt^2p for each final state particle \"\"\"\n",
    "# dib = {final state particles:  Kti^2p}\n",
    "def di_B (temp_entity,p,pt,dib):\n",
    "        for i in temp_entity:\n",
    "            kti2p = (pt[i])**(2*p)\n",
    "            dib[i] = kti2p\n",
    "\n",
    "\"\"\" calculate the dij for every possible pair of final state particles \"\"\"\n",
    "def d_calculation(dij ,temp_entity, dib, temp_v,R):\n",
    "    pair_list = list(itertools.combinations(temp_entity,2))\n",
    "    for p in pair_list:\n",
    "        p1 = p[0] \n",
    "        p2 = p[1]\n",
    "        kti2p_pair = [dib[p1],dib[p2]]\n",
    "        m = min(kti2p_pair)\n",
    "        Delta_r = temp_v[p1].DeltaR(temp_v[p2])\n",
    "        d = m*((Delta_r)**2)/(R**2)\n",
    "        dij[p] = d\n",
    "    \n",
    "\"\"\" find the smallest among d's and return the index\"\"\"\n",
    "def deci(dib, dij):\n",
    "    dec = []  \n",
    "    pool = list(dib.values()) + list(dij.values())\n",
    "    smallestd = min (pool)\n",
    "    if smallestd in list(dij.values()):\n",
    "        dec.append(1)\n",
    "        #to reverse the position of keys and values\n",
    "        revD = {v:k for k,v in dij.items()}\n",
    "        # to get the key\n",
    "        dec.append(revD[smallestd])\n",
    "    elif smallestd in list(dib.values()):\n",
    "        dec.append(0) \n",
    "        revdB = {v:k for k,v in dib.items()}\n",
    "        dec.append(revdB[smallestd])\n",
    "        # dec = [0/1, index for the smallest d]\n",
    "    return dec\n",
    "\n",
    "''' update information about lorentz vectors, handle the merging case  '''\n",
    "def merging(i, temp_v, temp_entity, temp_pt, dib, p):  \n",
    "        index1 = i[0]                           # these are the\n",
    "        index2 = i[1]                           # two indices to merge\n",
    "        v_new = temp_v[index1] + temp_v[index2]     # the new four vector\n",
    "        # merge the two indices, both tuples\n",
    "        new_index = index1 + index2\n",
    "        temp_v[new_index] = v_new\n",
    "        temp_pt[new_index] = v_new.Perp()\n",
    "        temp_entity.append(new_index)\n",
    "        dib[new_index] = (temp_pt[new_index])**(2*p)\n",
    "        # delete the original two entities\n",
    "        for k in i:   \n",
    "            del temp_v[k]\n",
    "            temp_entity.remove(k)\n",
    "            del temp_pt[k]\n",
    "            del dib[k]\n",
    "\n",
    "'''Update all variables if it's a jet'''        \n",
    "def handle_jet(i, temp_v, temp_entity, temp_pt,dib, jets,dij): \n",
    "        jets.append(i)\n",
    "        del temp_v[i]\n",
    "        temp_entity.remove(i)\n",
    "        del temp_pt[i]\n",
    "        del dib[i]\n",
    "        for k in list(dij.keys()):\n",
    "            for kk in k:\n",
    "                if kk == i:\n",
    "                    del dij[k]\n"
   ]
  },
  {
   "cell_type": "code",
   "execution_count": null,
   "metadata": {
    "collapsed": true
   },
   "outputs": [],
   "source": []
  }
 ],
 "metadata": {
  "kernelspec": {
   "display_name": "Python 3",
   "language": "python",
   "name": "python3"
  },
  "language_info": {
   "codemirror_mode": {
    "name": "ipython",
    "version": 3
   },
   "file_extension": ".py",
   "mimetype": "text/x-python",
   "name": "python",
   "nbconvert_exporter": "python",
   "pygments_lexer": "ipython3",
   "version": "3.5.2"
  }
 },
 "nbformat": 4,
 "nbformat_minor": 1
}
