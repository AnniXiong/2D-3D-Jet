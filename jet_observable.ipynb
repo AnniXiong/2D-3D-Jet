{
 "cells": [
  {
   "cell_type": "code",
   "execution_count": 1,
   "metadata": {
    "collapsed": false
   },
   "outputs": [
    {
     "data": {
      "application/javascript": [
       "\n",
       "require(['notebook'],\n",
       "  function() {\n",
       "    IPython.CodeCell.config_defaults.highlight_modes['magic_text/x-c++src'] = {'reg':[/^%%cpp/]};\n",
       "    console.log(\"JupyROOT - %%cpp magic configured\");\n",
       "  }\n",
       ");\n"
      ]
     },
     "metadata": {},
     "output_type": "display_data"
    },
    {
     "name": "stdout",
     "output_type": "stream",
     "text": [
      "Welcome to JupyROOT 6.09/03\n"
     ]
    }
   ],
   "source": [
    "# pseudo-mass = E(j1)*E(j2)*deltaR(j1,j2)\n",
    "# j1 and j2 ---> two highest pt constituents\n",
    "# to calculate the jet observable and plot the distribution of it using many parton shower events\n",
    "# Anni Xiong\n",
    "#import MC_pregraph3D_ as mp3\n",
    "import MC_3d_saving_ as mcs\n",
    "import MC_pregraph3D_ as mp3\n",
    "import antikt as ak\n",
    "from ROOT import TLorentzVector\n",
    "import importlib as imp\n",
    "import matplotlib.pyplot as plt\n",
    "import numpy as np\n",
    "\n",
    "events = 100\n",
    "p = -1\n",
    "R = 1\n",
    "\n",
    "'''calculating the pseudo mass for one event'''\n",
    "def pseudo_mass(v,jets,pt):\n",
    "    jet_v = {}  #{jetn(c1,c2,c3,...):  sum of v's}\n",
    "    jet_E = {}  #{jetn(c1,c2,c3,...):  jetEn}\n",
    "    for i in jets:\n",
    "        jet_vv = TLorentzVector()\n",
    "        for c in i:\n",
    "            c = c,\n",
    "            jet_vv += v[c]\n",
    "        jet_v[i] = jet_vv\n",
    "        jet_E[i] = jet_vv[3] # to get the energy\n",
    "    max_energy = max(list(jet_E.values()))\n",
    "    revE = {v:k for k,v in jet_E.items()}  # {jetEn: jet}\n",
    "    # pick out the jet with the largest energy\n",
    "    max_index = revE[max_energy] \n",
    "    if len(max_index) == 1:\n",
    "        pse_mass = np.nan\n",
    "    else:\n",
    "        const_pt = {k:pt[k,] for k in max_index}\n",
    "        sorted_pt = sorted(list(const_pt.values()), reverse = True)\n",
    "        rev_const_pt = {pt[k,]:k for k in max_index}\n",
    "        j1 = rev_const_pt[sorted_pt[0]]  \n",
    "        j2 = rev_const_pt[sorted_pt[1]]\n",
    "        deltar = v[j1,].DeltaR(v[j2,])\n",
    "        pse_mass = v[j1,][3] * v[j2,][3] * deltar   \n",
    "    return pse_mass\n",
    "\n",
    "def distribution_plot(events, p, R):\n",
    "    m = []\n",
    "    for i in range(events):\n",
    "        \n",
    "        final3 = mcs.final3\n",
    "        t3 = mcs.t3\n",
    "        jets= ak.main(p, R, final3, t3, mp3, mcs)\n",
    "        pt = ak.pt\n",
    "        v = ak.v\n",
    "        mass = pseudo_mass(v, jets, pt)\n",
    "        m.append(mass)\n",
    "    m = np.asarray(m)\n",
    "    xnan = m[~np.isnan(m)]\n",
    "    return xnan\n",
    "    print('pseudo mass',m)\n",
    "\n",
    "\n",
    "# plotting the pseudo mass distribution by reloading the data each time\n",
    "fig, ax = plt.subplots()\n",
    "fig.set_size_inches(11,8.5) \n",
    "xnan = distribution_plot(events, p, R)\n",
    "minE = mcs.Minenergy\n",
    "bin_max = max(xnan)\n",
    "bin_min = min(xnan)\n",
    "bins = np.linspace(bin_min, bin_max, 20)\n",
    "plt.style.use('classic')\n",
    "ax.hist(xnan, bins ,color='blue', alpha=0.8, histtype='step', label = 'min_E ='+ str(minE) +', '+str(events)+' events')\n",
    "ax.legend(loc='upper right')\n",
    "ax.set_xlabel('Pseudo mass')\n",
    "ax.set_title('Pseudo mass distribution')\n",
    "fig.tight_layout()\n",
    "#plt.show()\n",
    "plt.savefig('Pseudo_mass_distribution.png')\n"
   ]
  },
  {
   "cell_type": "code",
   "execution_count": null,
   "metadata": {
    "collapsed": true
   },
   "outputs": [],
   "source": []
  }
 ],
 "metadata": {
  "kernelspec": {
   "display_name": "Python 3",
   "language": "python",
   "name": "python3"
  },
  "language_info": {
   "codemirror_mode": {
    "name": "ipython",
    "version": 3
   },
   "file_extension": ".py",
   "mimetype": "text/x-python",
   "name": "python",
   "nbconvert_exporter": "python",
   "pygments_lexer": "ipython3",
   "version": "3.5.2"
  }
 },
 "nbformat": 4,
 "nbformat_minor": 1
}
